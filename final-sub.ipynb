{
 "cells": [
  {
   "cell_type": "code",
   "execution_count": 1,
   "metadata": {
    "_cell_guid": "b1076dfc-b9ad-4769-8c92-a6c4dae69d19",
    "_uuid": "8f2839f25d086af736a60e9eeb907d3b93b6e0e5"
   },
   "outputs": [
    {
     "name": "stdout",
     "output_type": "stream",
     "text": [
      "/kaggle/input/train-mlm-fin4/custom.css\n",
      "/kaggle/input/train-mlm-fin4/__notebook__.ipynb\n",
      "/kaggle/input/train-mlm-fin4/val_pseudo.csv\n",
      "/kaggle/input/train-mlm-fin4/model_val_pseudo.h5\n",
      "/kaggle/input/train-mlm-fin4/__results__.html\n",
      "/kaggle/input/train-mlm-fin4/__output__.json\n",
      "/kaggle/input/train-mlm-fin4/submission.csv\n",
      "/kaggle/input/train-mlm-fin4/submission_all.csv\n",
      "/kaggle/input/train-mlm-fin18000/custom.css\n",
      "/kaggle/input/train-mlm-fin18000/__notebook__.ipynb\n",
      "/kaggle/input/train-mlm-fin18000/val_pseudo.csv\n",
      "/kaggle/input/train-mlm-fin18000/model_val_pseudo.h5\n",
      "/kaggle/input/train-mlm-fin18000/__results__.html\n",
      "/kaggle/input/train-mlm-fin18000/__output__.json\n",
      "/kaggle/input/train-mlm-fin18000/submission.csv\n",
      "/kaggle/input/train-mlm-fin18000/submission_all.csv\n",
      "/kaggle/input/train-mlm-fin2/custom.css\n",
      "/kaggle/input/train-mlm-fin2/__notebook__.ipynb\n",
      "/kaggle/input/train-mlm-fin2/val_pseudo.csv\n",
      "/kaggle/input/train-mlm-fin2/model_val_pseudo.h5\n",
      "/kaggle/input/train-mlm-fin2/__results__.html\n",
      "/kaggle/input/train-mlm-fin2/__output__.json\n",
      "/kaggle/input/train-mlm-fin2/submission.csv\n",
      "/kaggle/input/train-mlm-fin2/submission_all.csv\n",
      "/kaggle/input/train-mlm-fin5/custom.css\n",
      "/kaggle/input/train-mlm-fin5/__notebook__.ipynb\n",
      "/kaggle/input/train-mlm-fin5/val_pseudo.csv\n",
      "/kaggle/input/train-mlm-fin5/model_val_pseudo.h5\n",
      "/kaggle/input/train-mlm-fin5/__results__.html\n",
      "/kaggle/input/train-mlm-fin5/__output__.json\n",
      "/kaggle/input/train-mlm-fin5/submission.csv\n",
      "/kaggle/input/train-mlm-fin5/submission_all.csv\n",
      "/kaggle/input/tpu-inference-super-fast-xlmroberta/pytorch-xla-env-setup.py\n",
      "/kaggle/input/tpu-inference-super-fast-xlmroberta/custom.css\n",
      "/kaggle/input/tpu-inference-super-fast-xlmroberta/__notebook__.ipynb\n",
      "/kaggle/input/tpu-inference-super-fast-xlmroberta/torchvision-nightly+20200416-cp36-cp36m-linux_x86_64.whl\n",
      "/kaggle/input/tpu-inference-super-fast-xlmroberta/__results__.html\n",
      "/kaggle/input/tpu-inference-super-fast-xlmroberta/__output__.json\n",
      "/kaggle/input/tpu-inference-super-fast-xlmroberta/submission.csv\n",
      "/kaggle/input/tpu-inference-super-fast-xlmroberta/torch_xla-nightly+20200416-cp36-cp36m-linux_x86_64.whl\n",
      "/kaggle/input/tpu-inference-super-fast-xlmroberta/torch-nightly+20200416-cp36-cp36m-linux_x86_64.whl\n",
      "/kaggle/input/tpu-inference-super-fast-xlmroberta/__results___files/__results___15_1.png\n",
      "/kaggle/input/tpu-inference-super-fast-xlmroberta/__results___files/__results___17_1.png\n",
      "/kaggle/input/tpu-inference-super-fast-xlmroberta/__results___files/__results___19_1.png\n",
      "/kaggle/input/tpu-inference-super-fast-xlmroberta/node_submissions/submission_0_799342.csv\n",
      "/kaggle/input/tpu-inference-super-fast-xlmroberta/node_submissions/submission_0_797465.csv\n",
      "/kaggle/input/tpu-inference-super-fast-xlmroberta/node_submissions/submission_0_778314.csv\n",
      "/kaggle/input/tpu-inference-super-fast-xlmroberta/node_submissions/submission_0_772526.csv\n",
      "/kaggle/input/tpu-inference-super-fast-xlmroberta/node_submissions/submission_0_788030.csv\n",
      "/kaggle/input/tpu-inference-super-fast-xlmroberta/node_submissions/submission_0_792108.csv\n",
      "/kaggle/input/tpu-inference-super-fast-xlmroberta/node_submissions/submission_0_765284.csv\n",
      "/kaggle/input/tpu-inference-super-fast-xlmroberta/node_submissions/submission_0_729579.csv\n",
      "/kaggle/input/train-mlm-fin/custom.css\n",
      "/kaggle/input/train-mlm-fin/__notebook__.ipynb\n",
      "/kaggle/input/train-mlm-fin/val_pseudo.csv\n",
      "/kaggle/input/train-mlm-fin/model_val_pseudo.h5\n",
      "/kaggle/input/train-mlm-fin/__results__.html\n",
      "/kaggle/input/train-mlm-fin/__output__.json\n",
      "/kaggle/input/train-mlm-fin/submission.csv\n",
      "/kaggle/input/train-mlm-fin/submission_all.csv\n",
      "/kaggle/input/train-mlm-fin3/custom.css\n",
      "/kaggle/input/train-mlm-fin3/__notebook__.ipynb\n",
      "/kaggle/input/train-mlm-fin3/val_pseudo.csv\n",
      "/kaggle/input/train-mlm-fin3/model_val_pseudo.h5\n",
      "/kaggle/input/train-mlm-fin3/__results__.html\n",
      "/kaggle/input/train-mlm-fin3/__output__.json\n",
      "/kaggle/input/train-mlm-fin3/submission.csv\n",
      "/kaggle/input/train-mlm-fin3/submission_all.csv\n",
      "/kaggle/input/howling-with-wolf-on-l-genpresse/custom.css\n",
      "/kaggle/input/howling-with-wolf-on-l-genpresse/__notebook__.ipynb\n",
      "/kaggle/input/howling-with-wolf-on-l-genpresse/__results__.html\n",
      "/kaggle/input/howling-with-wolf-on-l-genpresse/__output__.json\n",
      "/kaggle/input/howling-with-wolf-on-l-genpresse/submission.csv\n",
      "/kaggle/input/jigsaw-multilingual-toxic-comment-classification/jigsaw-unintended-bias-train.csv\n",
      "/kaggle/input/jigsaw-multilingual-toxic-comment-classification/validation-processed-seqlen128.csv\n",
      "/kaggle/input/jigsaw-multilingual-toxic-comment-classification/jigsaw-toxic-comment-train-processed-seqlen128.csv\n",
      "/kaggle/input/jigsaw-multilingual-toxic-comment-classification/validation.csv\n",
      "/kaggle/input/jigsaw-multilingual-toxic-comment-classification/test-processed-seqlen128.csv\n",
      "/kaggle/input/jigsaw-multilingual-toxic-comment-classification/jigsaw-toxic-comment-train.csv\n",
      "/kaggle/input/jigsaw-multilingual-toxic-comment-classification/test.csv\n",
      "/kaggle/input/jigsaw-multilingual-toxic-comment-classification/sample_submission.csv\n",
      "/kaggle/input/jigsaw-multilingual-toxic-comment-classification/jigsaw-unintended-bias-train-processed-seqlen128.csv\n"
     ]
    }
   ],
   "source": [
    "import numpy as np # linear algebra\n",
    "import pandas as pd # data processing, CSV file I/O (e.g. pd.read_csv)\n",
    "import os\n",
    "for dirname, _, filenames in os.walk('/kaggle/input'):\n",
    "    for filename in filenames:\n",
    "        print(os.path.join(dirname, filename))"
   ]
  },
  {
   "cell_type": "code",
   "execution_count": 2,
   "metadata": {
    "_cell_guid": "79c7e3d0-c299-4dcb-8224-4455121ee9b0",
    "_uuid": "d629ff2d2480ee46fbb7e2d37f6b5fab8052498a"
   },
   "outputs": [],
   "source": [
    "sub1 = pd.read_csv('/kaggle/input/train-mlm-fin/submission_all.csv')\n",
    "sub2 = pd.read_csv('/kaggle/input/train-mlm-fin2/submission_all.csv')\n",
    "sub3 = pd.read_csv('/kaggle/input/train-mlm-fin3/submission_all.csv')\n",
    "sub4 = pd.read_csv('/kaggle/input/train-mlm-fin4/submission_all.csv')\n",
    "sub5 = pd.read_csv('/kaggle/input/train-mlm-fin5/submission_all.csv')\n",
    "sub6 = pd.read_csv('/kaggle/input/train-mlm-fin18000/submission_all.csv')\n",
    "sub_df = pd.read_csv('/kaggle/input/jigsaw-multilingual-toxic-comment-classification/sample_submission.csv')"
   ]
  },
  {
   "cell_type": "code",
   "execution_count": 3,
   "metadata": {},
   "outputs": [],
   "source": [
    "def bl(df):\n",
    "    df['toxic'] = (0.6*df['toxic_o']) + (0.1*df['toxic_google']) + (0.15*df['toxic_yandex'])\n",
    "    + (0.15*df['toxic_en_blob'])\n",
    "    return df"
   ]
  },
  {
   "cell_type": "code",
   "execution_count": 4,
   "metadata": {
    "_kg_hide-output": true,
    "collapsed": true
   },
   "outputs": [
    {
     "data": {
      "text/plain": [
       "[          id     toxic   toxic_o  toxic_google  toxic_yandex  toxic_en_blob\n",
       " 0          0  0.005508  0.005637      0.008524      0.008491       0.009319\n",
       " 1          1  0.021211  0.014473      0.028947      0.064217       0.008012\n",
       " 2          2  0.276706  0.350582      0.210858      0.301811       0.587522\n",
       " 3          3  0.006089  0.005971      0.009419      0.010426       0.009074\n",
       " 4          4  0.005583  0.005608      0.008676      0.009004       0.007961\n",
       " ...      ...       ...       ...           ...           ...            ...\n",
       " 63807  63807  0.093382  0.086443      0.090737      0.216284       0.096194\n",
       " 63808  63808  0.006069  0.006585      0.008452      0.008485       0.008463\n",
       " 63809  63809  0.029354  0.022424      0.071129      0.058578       0.102824\n",
       " 63810  63810  0.005990  0.006880      0.006240      0.008251       0.005870\n",
       " 63811  63811  0.004756  0.005204      0.006581      0.006500       0.006791\n",
       " \n",
       " [63812 rows x 6 columns],\n",
       "           id     toxic   toxic_o  toxic_google  toxic_yandex  toxic_en_blob\n",
       " 0          0  0.005330  0.005293      0.008648      0.008597       0.009694\n",
       " 1          1  0.024441  0.019312      0.024015      0.069684       0.008756\n",
       " 2          2  0.273910  0.346097      0.198659      0.309243       0.446809\n",
       " 3          3  0.005260  0.005081      0.008274      0.009225       0.007942\n",
       " 4          4  0.005591  0.005683      0.008647      0.008780       0.007704\n",
       " ...      ...       ...       ...           ...           ...            ...\n",
       " 63807  63807  0.141889  0.166169      0.096480      0.216928       0.093132\n",
       " 63808  63808  0.005660  0.006005      0.008223      0.008234       0.008098\n",
       " 63809  63809  0.035053  0.028039      0.068866      0.075623       0.116829\n",
       " 63810  63810  0.004784  0.005229      0.005694      0.007182       0.005630\n",
       " 63811  63811  0.004389  0.004811      0.005987      0.006024       0.005992\n",
       " \n",
       " [63812 rows x 6 columns],\n",
       "           id     toxic   toxic_o  toxic_google  toxic_yandex  toxic_en_blob\n",
       " 0          0  0.005521  0.005589      0.008338      0.008894       0.009322\n",
       " 1          1  0.013505  0.007299      0.018626      0.048417       0.008372\n",
       " 2          2  0.232966  0.296980      0.179045      0.245824       0.522535\n",
       " 3          3  0.005162  0.004980      0.008059      0.009119       0.007795\n",
       " 4          4  0.005542  0.005558      0.008787      0.008859       0.007797\n",
       " ...      ...       ...       ...           ...           ...            ...\n",
       " 63807  63807  0.098637  0.098729      0.090677      0.202214       0.070585\n",
       " 63808  63808  0.006032  0.006524      0.008595      0.008388       0.008495\n",
       " 63809  63809  0.020670  0.021281      0.049154      0.019910       0.044256\n",
       " 63810  63810  0.004745  0.005230      0.005663      0.006940       0.005666\n",
       " 63811  63811  0.004576  0.005146      0.005905      0.005984       0.006034\n",
       " \n",
       " [63812 rows x 6 columns],\n",
       "           id     toxic   toxic_o  toxic_google  toxic_yandex  toxic_en_blob\n",
       " 0          0  0.005423  0.005459      0.008139      0.008890       0.009026\n",
       " 1          1  0.017567  0.012249      0.021625      0.053704       0.007727\n",
       " 2          2  0.264389  0.337999      0.197339      0.279037       0.406989\n",
       " 3          3  0.005151  0.005117      0.007853      0.008636       0.007942\n",
       " 4          4  0.005134  0.005117      0.007949      0.008461       0.006939\n",
       " ...      ...       ...       ...           ...           ...            ...\n",
       " 63807  63807  0.088354  0.081416      0.093541      0.201003       0.085892\n",
       " 63808  63808  0.006167  0.006847      0.008358      0.008149       0.008170\n",
       " 63809  63809  0.029837  0.025855      0.055937      0.058201       0.094819\n",
       " 63810  63810  0.005112  0.005559      0.005877      0.007926       0.006469\n",
       " 63811  63811  0.004901  0.005406      0.006580      0.006666       0.006703\n",
       " \n",
       " [63812 rows x 6 columns],\n",
       "           id     toxic   toxic_o  toxic_google  toxic_yandex  toxic_en_blob\n",
       " 0          0  0.004945  0.005338      0.006761      0.007111       0.007819\n",
       " 1          1  0.015122  0.008954      0.019457      0.052026       0.007021\n",
       " 2          2  0.264622  0.335657      0.192412      0.293248       0.400614\n",
       " 3          3  0.004596  0.004453      0.006984      0.008171       0.007014\n",
       " 4          4  0.004931  0.004941      0.007698      0.007980       0.006915\n",
       " ...      ...       ...       ...           ...           ...            ...\n",
       " 63807  63807  0.107589  0.114960      0.083049      0.202055       0.081478\n",
       " 63808  63808  0.005541  0.006085      0.007516      0.007591       0.007463\n",
       " 63809  63809  0.024630  0.021361      0.058252      0.039923       0.098812\n",
       " 63810  63810  0.004364  0.004715      0.005019      0.006885       0.004889\n",
       " 63811  63811  0.003670  0.004089      0.004766      0.004934       0.004980\n",
       " \n",
       " [63812 rows x 6 columns],\n",
       "           id     toxic   toxic_o  toxic_google  toxic_yandex  toxic_en_blob\n",
       " 0          0  0.003666  0.003629      0.006019      0.005911       0.006432\n",
       " 1          1  0.013832  0.007485      0.022363      0.047366       0.005339\n",
       " 2          2  0.212326  0.256165      0.184589      0.267789       0.513293\n",
       " 3          3  0.003748  0.003608      0.005787      0.006699       0.005939\n",
       " 4          4  0.003873  0.003831      0.006262      0.006322       0.005377\n",
       " ...      ...       ...       ...           ...           ...            ...\n",
       " 63807  63807  0.110176  0.115404      0.087407      0.214615       0.092135\n",
       " 63808  63808  0.004078  0.004478      0.005583      0.005555       0.005492\n",
       " 63809  63809  0.023258  0.018801      0.062853      0.037950       0.049901\n",
       " 63810  63810  0.003373  0.003607      0.004018      0.005378       0.003944\n",
       " 63811  63811  0.003184  0.003530      0.004303      0.004239       0.004229\n",
       " \n",
       " [63812 rows x 6 columns]]"
      ]
     },
     "execution_count": 4,
     "metadata": {},
     "output_type": "execute_result"
    }
   ],
   "source": [
    "[bl(x) for x in [sub1,sub2,sub3,sub4,sub5,sub6]]"
   ]
  },
  {
   "cell_type": "code",
   "execution_count": 5,
   "metadata": {},
   "outputs": [],
   "source": [
    "blend = (sub1['toxic'] + sub2['toxic'] + sub3['toxic'] + sub4['toxic'] + sub5['toxic'] + sub6['toxic'])/6"
   ]
  },
  {
   "cell_type": "code",
   "execution_count": 6,
   "metadata": {},
   "outputs": [],
   "source": [
    "sub_tarek = pd.read_csv('/kaggle/input/howling-with-wolf-on-l-genpresse/submission.csv')\n",
    "sub_shonenkov = pd.read_csv('/kaggle/input/tpu-inference-super-fast-xlmroberta/submission.csv')"
   ]
  },
  {
   "cell_type": "code",
   "execution_count": 7,
   "metadata": {},
   "outputs": [],
   "source": [
    "sub_df['toxic'] = (0.2*sub_tarek['toxic']) + (0.2*sub_shonenkov['toxic']) + (0.6*blend)"
   ]
  },
  {
   "cell_type": "code",
   "execution_count": 8,
   "metadata": {},
   "outputs": [],
   "source": [
    "sub_df.to_csv('submission.csv',index=False)"
   ]
  }
 ],
 "metadata": {
  "kernelspec": {
   "display_name": "Python 3",
   "language": "python",
   "name": "python3"
  },
  "language_info": {
   "codemirror_mode": {
    "name": "ipython",
    "version": 3
   },
   "file_extension": ".py",
   "mimetype": "text/x-python",
   "name": "python",
   "nbconvert_exporter": "python",
   "pygments_lexer": "ipython3",
   "version": "3.7.3"
  }
 },
 "nbformat": 4,
 "nbformat_minor": 4
}
